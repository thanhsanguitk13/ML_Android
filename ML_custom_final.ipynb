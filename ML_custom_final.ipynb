{
  "cells": [
    {
      "cell_type": "code",
      "execution_count": null,
      "metadata": {
        "id": "ImnkIWbPNcHz"
      },
      "outputs": [],
      "source": [
        "import pandas as pd\n",
        "import numpy as np\n",
        "from numpy import mean\n",
        "from numpy import std\n",
        "from numpy import ravel\n",
        "from sklearn.metrics import accuracy_score\n"
      ]
    },
    {
      "cell_type": "markdown",
      "metadata": {
        "id": "XQjxuH184j5S"
      },
      "source": [
        "Mound GG drive"
      ]
    },
    {
      "cell_type": "code",
      "execution_count": null,
      "metadata": {
        "colab": {
          "base_uri": "https://localhost:8080/"
        },
        "id": "WincN3yT4h8c",
        "outputId": "162dfd1b-3ad6-48c5-e3e6-e3c10107b41f"
      },
      "outputs": [
        {
          "name": "stdout",
          "output_type": "stream",
          "text": [
            "Mounted at /content/drive\n"
          ]
        }
      ],
      "source": [
        "from google.colab import drive\n",
        "drive.mount('/content/drive')"
      ]
    },
    {
      "cell_type": "code",
      "execution_count": null,
      "metadata": {
        "colab": {
          "base_uri": "https://localhost:8080/"
        },
        "id": "aYEahUvb6e5G",
        "outputId": "8a8466ac-988e-4265-c79a-325f310cb820"
      },
      "outputs": [
        {
          "name": "stdout",
          "output_type": "stream",
          "text": [
            "(13794, 3998)\n",
            "(3449, 3998)\n"
          ]
        }
      ],
      "source": [
        "#from sklearn.model_selection import train_test_split\n",
        "#data = pd.read_csv(\"/content/drive/MyDrive/Full_data/kronodroid_emu_dynamic.csv\")\n",
        "#label = data.filter(items=['label'], axis=1)\n",
        "#data = data.drop(columns=['label'])\n",
        "#data_train, data_test, label_train, label_test = train_test_split(data, label, test_size=0.20, random_state=50)\n",
        "\n",
        "from sklearn.model_selection import train_test_split\n",
        "data = pd.read_csv(\"/content/drive/MyDrive/Malware/Data/custom/DATA_ML.csv\")\n",
        "data = data.drop(columns=[\"apk_name\"])\n",
        "label = pd.read_csv(\"/content/drive/MyDrive/Malware/Data/custom/LABEL_ML.csv\")\n",
        "data_train, data_test, label_train, label_test = train_test_split(data, label, test_size=0.20, random_state=50)\n",
        "print(data_train.shape)\n",
        "print(data_test.shape)"
      ]
    },
    {
      "cell_type": "markdown",
      "metadata": {
        "id": "upNxEHoV49MS"
      },
      "source": []
    },
    {
      "cell_type": "code",
      "execution_count": null,
      "metadata": {
        "id": "9obTyyfgYdnB"
      },
      "outputs": [],
      "source": [
        "def convertTo1D(x : pd.DataFrame):\n",
        "  retu = []\n",
        "  for i in x.values:\n",
        "    if all(i == [0, 0, 0, 0]):\n",
        "      retu.append(0)\n",
        "    else:\n",
        "      retu.append(1)\n",
        "  return retu"
      ]
    },
    {
      "cell_type": "code",
      "execution_count": null,
      "metadata": {
        "id": "QCh_fuIob96-"
      },
      "outputs": [],
      "source": [
        "#def df_label():\n",
        " # df_label_1d=[]\n",
        "  #for index, row in label.iterrows():\n",
        "  #  if row['Adware'] == 1:\n",
        "  #    df_label_1d.append(1)\n",
        "  #  elif row['Banking'] == 1:\n",
        "  #    df_label_1d.append(1)\n",
        "  #  elif row['Riskware'] == 1:\n",
        "  #    df_label_1d.append(1)\n",
        "  #  elif row['SMS'] == 1:\n",
        "  #    df_label_1d.append(1)\n",
        " #   else:\n",
        " #     df_label_1d.append(0)\n",
        " # return df_label_1d\n",
        "\n",
        "#df_label_1d()"
      ]
    },
    {
      "cell_type": "code",
      "execution_count": null,
      "metadata": {
        "id": "rtrnCpAB4jhJ"
      },
      "outputs": [],
      "source": [
        "label_train=convertTo1D(label_train)\n",
        "label_test=convertTo1D(label_test)"
      ]
    },
    {
      "cell_type": "code",
      "execution_count": null,
      "metadata": {
        "id": "x8LE7z-yNoFB"
      },
      "outputs": [],
      "source": [
        "from sklearn.tree import DecisionTreeClassifier\n",
        "def DT():\n",
        "  model = DecisionTreeClassifier(criterion=\"entropy\")\n",
        "  model.fit(data_train, label_train)\n",
        "  yhat = model.predict(data_test)\n",
        "  yhat = yhat.round()\n",
        "  acc = accuracy_score(label_test, yhat, sample_weight=None)\n",
        "  print(\"Accuracy Score: %.3f (%.3f)\" % (mean(acc), std(acc)))\n",
        "\n",
        "  from sklearn.metrics import confusion_matrix\n",
        "  print('Confusion matrix:')\n",
        "  print(confusion_matrix(label_test, yhat))\n",
        "\n",
        "  tn, fp, fn, tp = confusion_matrix(label_test, yhat).ravel()\n",
        "  fpr = fp /(fp+tn)\n",
        "  print(\"False positive rate: %.3f (%.3f)\" % (mean(fpr),std(fpr)))\n",
        "\n",
        "  from sklearn.metrics import f1_score\n",
        "  f1 = f1_score(label_test, yhat)\n",
        "  print(\"F1 Score: %.3f (%.3f)\" % (mean(f1),std(f1)))\n",
        "\n",
        "  from sklearn.metrics import precision_score\n",
        "  preci = precision_score(label_test, yhat)\n",
        "  print(\"Precision Score: %.3f (%.3f)\" % (mean(preci),std(preci)))\n",
        "\n",
        "  from sklearn.metrics import recall_score\n",
        "  recall = recall_score(label_test, yhat)\n",
        "  print(\"Recall Score: %.3f (%.3f)\" % (mean(recall),std(recall)))\n",
        "\n",
        "  from sklearn.metrics import roc_auc_score\n",
        "  auc = roc_auc_score(label_test, yhat)\n",
        "  print(\"AUC Score: %.3f (%.3f)\" % (mean(recall),std(recall)))\n",
        "\n",
        "\n",
        "\n",
        "\n",
        "\n",
        ""
      ]
    },
    {
      "cell_type": "code",
      "execution_count": null,
      "metadata": {
        "colab": {
          "base_uri": "https://localhost:8080/"
        },
        "id": "QAQSTosWRwuy",
        "outputId": "8ff53056-ee79-4018-a80d-5a873fa96ed7"
      },
      "outputs": [
        {
          "name": "stdout",
          "output_type": "stream",
          "text": [
            "Accuracy Score: 0.966 (0.000)\n",
            "Confusion matrix:\n",
            "[[ 723   58]\n",
            " [  58 2610]]\n",
            "False positive rate: 0.074 (0.000)\n",
            "F1 Score: 0.978 (0.000)\n",
            "Precision Score: 0.978 (0.000)\n",
            "Recall Score: 0.978 (0.000)\n",
            "AUC Score: 0.978 (0.000)\n"
          ]
        }
      ],
      "source": [
        "DT()"
      ]
    },
    {
      "cell_type": "code",
      "execution_count": null,
      "metadata": {
        "id": "XAr0Tsp-Rz7Q"
      },
      "outputs": [],
      "source": [
        "from sklearn.linear_model import LogisticRegression\n",
        "def LR():\n",
        "  model = LogisticRegression(random_state=0,solver=\"newton-cg\")\n",
        "  model.fit(data_train, label_train)\n",
        "  yhat = model.predict(data_test)\n",
        "  yhat = yhat.round()\n",
        "  acc = accuracy_score(label_test, yhat, sample_weight=None)\n",
        "  print(\"Accuracy Score: %.3f (%.3f)\" % (mean(acc), std(acc)))\n",
        "\n",
        "  from sklearn.metrics import confusion_matrix\n",
        "  print('Confusion matrix:')\n",
        "  print(confusion_matrix(label_test, yhat))\n",
        "\n",
        "  tn, fp, fn, tp = confusion_matrix(label_test, yhat).ravel()\n",
        "  fpr = fp /(fp+tn)\n",
        "  print(\"False positive rate: %.3f (%.3f)\" % (mean(fpr),std(fpr)))\n",
        "\n",
        "  from sklearn.metrics import f1_score\n",
        "  f1 = f1_score(label_test, yhat)\n",
        "  print(\"F1 Score: %.3f (%.3f)\" % (mean(f1),std(f1)))\n",
        "\n",
        "  from sklearn.metrics import precision_score\n",
        "  preci = precision_score(label_test, yhat)\n",
        "  print(\"Precision Score: %.3f (%.3f)\" % (mean(preci),std(preci)))\n",
        "\n",
        "  from sklearn.metrics import recall_score\n",
        "  recall = recall_score(label_test, yhat)\n",
        "  print(\"Recall Score: %.3f (%.3f)\" % (mean(recall),std(recall)))\n",
        "\n",
        "  from sklearn.metrics import roc_auc_score\n",
        "  auc = roc_auc_score(label_test, yhat)\n",
        "  print(\"AUC Score: %.3f (%.3f)\" % (mean(recall),std(recall)))"
      ]
    },
    {
      "cell_type": "code",
      "execution_count": null,
      "metadata": {
        "colab": {
          "base_uri": "https://localhost:8080/"
        },
        "id": "KtLuu14KSSGB",
        "outputId": "cb295200-fe95-40d7-e0b1-549694583644"
      },
      "outputs": [
        {
          "name": "stdout",
          "output_type": "stream",
          "text": [
            "Accuracy Score: 0.974 (0.000)\n",
            "Confusion matrix:\n",
            "[[ 729   52]\n",
            " [  38 2630]]\n",
            "False positive rate: 0.067 (0.000)\n",
            "F1 Score: 0.983 (0.000)\n",
            "Precision Score: 0.981 (0.000)\n",
            "Recall Score: 0.986 (0.000)\n",
            "AUC Score: 0.986 (0.000)\n"
          ]
        }
      ],
      "source": [
        "LR()"
      ]
    },
    {
      "cell_type": "code",
      "execution_count": null,
      "metadata": {
        "id": "nR781BN2CEZy"
      },
      "outputs": [],
      "source": [
        "from sklearn.svm import LinearSVC\n",
        "from sklearn.pipeline import make_pipeline\n",
        "from sklearn.preprocessing import StandardScaler\n",
        "def SVM():\n",
        "  # model = make_pipeline(StandardScaler(), LinearSVC(random_state=0))\n",
        "  model = LinearSVC(random_state=0, verbose=1)\n",
        "  model.fit(data_train, label_train)\n",
        "\n",
        "  yhat = model.predict(data_test)\n",
        "\n",
        "  yhat = yhat.round()\n",
        "  acc = accuracy_score(label_test, yhat,sample_weight=None)\n",
        "  print(\"Accuracy Score: %.3f (%.3f)\" % (mean(acc), std(acc)))\n",
        "\n",
        "  from sklearn.metrics import confusion_matrix\n",
        "  print('Confusion matrix:')\n",
        "  print(confusion_matrix(label_test, yhat))\n",
        "\n",
        "  tn, fp, fn, tp = confusion_matrix(label_test, yhat).ravel()\n",
        "  fpr = fp /(fp+tn)\n",
        "  print(\"False positive rate: %.3f (%.3f)\" % (mean(fpr),std(fpr)))\n",
        "\n",
        "  from sklearn.metrics import f1_score\n",
        "  f1 = f1_score(label_test, yhat)\n",
        "  print(\"F1 Score: %.3f (%.3f)\" % (mean(f1),std(f1)))\n",
        "\n",
        "  from sklearn.metrics import precision_score\n",
        "  preci = precision_score(label_test, yhat)\n",
        "  print(\"Precision Score: %.3f (%.3f)\" % (mean(preci),std(preci)))\n",
        "\n",
        "  from sklearn.metrics import recall_score\n",
        "  recall = recall_score(label_test, yhat)\n",
        "  print(\"Recall Score: %.3f (%.3f)\" % (mean(recall),std(recall)))\n",
        "\n",
        "  from sklearn.metrics import roc_auc_score\n",
        "  auc = roc_auc_score(label_test, yhat)\n",
        "  print(\"AUC Score: %.3f (%.3f)\" % (mean(recall),std(recall)))"
      ]
    },
    {
      "cell_type": "code",
      "execution_count": null,
      "metadata": {
        "colab": {
          "base_uri": "https://localhost:8080/"
        },
        "id": "L1rgpuCAEA4w",
        "outputId": "510d747f-6d3b-4110-d8a1-6744155fbc80"
      },
      "outputs": [
        {
          "name": "stdout",
          "output_type": "stream",
          "text": [
            "[LibLinear]"
          ]
        },
        {
          "name": "stderr",
          "output_type": "stream",
          "text": [
            "/usr/local/lib/python3.8/dist-packages/sklearn/svm/_base.py:1206: ConvergenceWarning: Liblinear failed to converge, increase the number of iterations.\n",
            "  warnings.warn(\n"
          ]
        },
        {
          "name": "stdout",
          "output_type": "stream",
          "text": [
            "Accuracy Score: 0.972 (0.000)\n",
            "Confusion matrix:\n",
            "[[ 730   51]\n",
            " [  45 2623]]\n",
            "False positive rate: 0.065 (0.000)\n",
            "F1 Score: 0.982 (0.000)\n",
            "Precision Score: 0.981 (0.000)\n",
            "Recall Score: 0.983 (0.000)\n",
            "AUC Score: 0.983 (0.000)\n"
          ]
        }
      ],
      "source": [
        "SVM()"
      ]
    },
    {
      "cell_type": "code",
      "execution_count": null,
      "metadata": {
        "id": "MGLrIVXnkzBw"
      },
      "outputs": [],
      "source": [
        "from sklearn.neighbors import KNeighborsClassifier\n",
        "def KNN():\n",
        "  model = KNeighborsClassifier(n_neighbors=5)\n",
        "  model.fit(data_train, label_train)\n",
        "  yhat = model.predict(data_test)\n",
        "  yhat = yhat.round()\n",
        "  acc = accuracy_score(label_test, yhat, sample_weight=None)\n",
        "  print(\"Accuracy Score: %.3f (%.3f)\" % (mean(acc), std(acc)))\n",
        "\n",
        "  from sklearn.metrics import confusion_matrix\n",
        "  print('Confusion matrix:')\n",
        "  print(confusion_matrix(label_test, yhat))\n",
        "\n",
        "  tn, fp, fn, tp = confusion_matrix(label_test, yhat).ravel()\n",
        "  fpr = fp /(fp+tn)\n",
        "  print(\"False positive rate: %.3f (%.3f)\" % (mean(fpr),std(fpr)))\n",
        "\n",
        "  from sklearn.metrics import f1_score\n",
        "  f1 = f1_score(label_test, yhat)\n",
        "  print(\"F1 Score: %.3f (%.3f)\" % (mean(f1),std(f1)))\n",
        "\n",
        "  from sklearn.metrics import precision_score\n",
        "  preci = precision_score(label_test, yhat)\n",
        "  print(\"Precision Score: %.3f (%.3f)\" % (mean(preci),std(preci)))\n",
        "\n",
        "  from sklearn.metrics import recall_score\n",
        "  recall = recall_score(label_test, yhat)\n",
        "  print(\"Recall Score: %.3f (%.3f)\" % (mean(recall),std(recall)))\n",
        "\n",
        "  from sklearn.metrics import roc_auc_score\n",
        "  auc = roc_auc_score(label_test, yhat)\n",
        "  print(\"AUC Score: %.3f (%.3f)\" % (mean(recall),std(recall)))"
      ]
    },
    {
      "cell_type": "code",
      "execution_count": null,
      "metadata": {
        "colab": {
          "base_uri": "https://localhost:8080/"
        },
        "id": "HSPkrDfklg-H",
        "outputId": "05dd0d91-9f66-4607-9e15-6fe0b83f392f"
      },
      "outputs": [
        {
          "name": "stdout",
          "output_type": "stream",
          "text": [
            "Accuracy Score: 0.971 (0.000)\n",
            "Confusion matrix:\n",
            "[[ 732   49]\n",
            " [  52 2616]]\n",
            "False positive rate: 0.063 (0.000)\n",
            "F1 Score: 0.981 (0.000)\n",
            "Precision Score: 0.982 (0.000)\n",
            "Recall Score: 0.981 (0.000)\n",
            "AUC Score: 0.981 (0.000)\n"
          ]
        }
      ],
      "source": [
        "KNN()"
      ]
    },
    {
      "cell_type": "code",
      "execution_count": null,
      "metadata": {
        "id": "jwMMKHQiEVKW"
      },
      "outputs": [],
      "source": [
        "import xgboost as xgb\n",
        "\n",
        "def XGB():\n",
        "  model = xgb.XGBClassifier(objective=\"binary:logistic\", verbosity=1) # binary\n",
        "  model.fit(data_train, label_train)\n",
        "  yhat = model.predict(data_test)\n",
        "  yhat = yhat.round()\n",
        "  acc = accuracy_score(label_test, yhat, sample_weight=None)\n",
        "  print(\"Accuracy Score: %.3f (%.3f)\" % (mean(acc), std(acc)))\n",
        "\n",
        "  from sklearn.metrics import confusion_matrix\n",
        "  print('Confusion matrix:')\n",
        "  print(confusion_matrix(label_test, yhat))\n",
        "\n",
        "  tn, fp, fn, tp = confusion_matrix(label_test, yhat).ravel()\n",
        "  fpr = fp /(fp+tn)\n",
        "  print(\"False positive rate: %.3f (%.3f)\" % (mean(fpr),std(fpr)))\n",
        "\n",
        "  from sklearn.metrics import f1_score\n",
        "  f1 = f1_score(label_test, yhat)\n",
        "  print(\"F1 Score: %.3f (%.3f)\" % (mean(f1),std(f1)))\n",
        "\n",
        "  from sklearn.metrics import precision_score\n",
        "  preci = precision_score(label_test, yhat)\n",
        "  print(\"Precision Score: %.3f (%.3f)\" % (mean(preci),std(preci)))\n",
        "\n",
        "  from sklearn.metrics import recall_score\n",
        "  recall = recall_score(label_test, yhat)\n",
        "  print(\"Recall Score: %.3f (%.3f)\" % (mean(recall),std(recall)))\n",
        "\n",
        "  from sklearn.metrics import roc_auc_score\n",
        "  auc = roc_auc_score(label_test, yhat)\n",
        "  print(\"AUC Score: %.3f (%.3f)\" % (mean(recall),std(recall)))"
      ]
    },
    {
      "cell_type": "code",
      "execution_count": null,
      "metadata": {
        "colab": {
          "background_save": true,
          "base_uri": "https://localhost:8080/"
        },
        "id": "DTgq5j6XjqSf",
        "outputId": "386710c1-422f-4bae-e7d9-5b145f3c853d"
      },
      "outputs": [
        {
          "name": "stdout",
          "output_type": "stream",
          "text": [
            "Accuracy Score: 0.967 (0.000)\n",
            "Confusion matrix:\n",
            "[[ 704   77]\n",
            " [  37 2631]]\n",
            "False positive rate: 0.099 (0.000)\n",
            "F1 Score: 0.979 (0.000)\n",
            "Precision Score: 0.972 (0.000)\n",
            "Recall Score: 0.986 (0.000)\n",
            "AUC Score: 0.986 (0.000)\n"
          ]
        }
      ],
      "source": [
        "XGB()"
      ]
    },
    {
      "cell_type": "code",
      "execution_count": null,
      "metadata": {
        "colab": {
          "background_save": true
        },
        "id": "LdSmt1zcl0xc"
      },
      "outputs": [],
      "source": [
        "from sklearn.neural_network import MLPClassifier\n",
        "\n",
        "def MLP():\n",
        "  model = MLPClassifier(verbose=True)\n",
        "  model.fit(data_train, label_train)\n",
        "  yhat = model.predict(data_test)\n",
        "  yhat = yhat.round()\n",
        "  acc = accuracy_score(label_test, yhat, sample_weight=None)\n",
        "  print(\"Accuracy Score: %.3f (%.3f)\" % (mean(acc), std(acc)))\n",
        "\n",
        "  from sklearn.metrics import confusion_matrix\n",
        "  print('Confusion matrix:')\n",
        "  print(confusion_matrix(label_test, yhat))\n",
        "\n",
        "  tn, fp, fn, tp = confusion_matrix(label_test, yhat).ravel()\n",
        "  fpr = fp /(fp+tn)\n",
        "  print(\"False positive rate: %.3f (%.3f)\" % (mean(fpr),std(fpr)))\n",
        "\n",
        "  from sklearn.metrics import f1_score\n",
        "  f1 = f1_score(label_test, yhat)\n",
        "  print(\"F1 Score: %.3f (%.3f)\" % (mean(f1),std(f1)))\n",
        "\n",
        "  from sklearn.metrics import precision_score\n",
        "  preci = precision_score(label_test, yhat)\n",
        "  print(\"Precision Score: %.3f (%.3f)\" % (mean(preci),std(preci)))\n",
        "\n",
        "  from sklearn.metrics import recall_score\n",
        "  recall = recall_score(label_test, yhat)\n",
        "  print(\"Recall Score: %.3f (%.3f)\" % (mean(recall),std(recall)))\n",
        "\n",
        "  from sklearn.metrics import roc_auc_score\n",
        "  auc = roc_auc_score(label_test, yhat)\n",
        "  print(\"AUC Score: %.3f (%.3f)\" % (mean(recall),std(recall)))"
      ]
    },
    {
      "cell_type": "code",
      "execution_count": null,
      "metadata": {
        "colab": {
          "background_save": true,
          "base_uri": "https://localhost:8080/"
        },
        "id": "DjdNlFQ0mN5D",
        "outputId": "d8b69bbb-5f45-46be-f89a-a7e397fc3aff"
      },
      "outputs": [
        {
          "name": "stdout",
          "output_type": "stream",
          "text": [
            "Iteration 1, loss = 0.32198234\n",
            "Iteration 2, loss = 0.13875563\n",
            "Iteration 3, loss = 0.10534536\n",
            "Iteration 4, loss = 0.09038905\n",
            "Iteration 5, loss = 0.08155267\n",
            "Iteration 6, loss = 0.07631804\n",
            "Iteration 7, loss = 0.07215619\n",
            "Iteration 8, loss = 0.06998941\n",
            "Iteration 9, loss = 0.06725189\n",
            "Iteration 10, loss = 0.06508581\n",
            "Iteration 11, loss = 0.06333949\n",
            "Iteration 12, loss = 0.06169963\n",
            "Iteration 13, loss = 0.06034806\n",
            "Iteration 14, loss = 0.05880385\n",
            "Iteration 15, loss = 0.05783847\n",
            "Iteration 16, loss = 0.05634537\n",
            "Iteration 17, loss = 0.05523277\n",
            "Iteration 18, loss = 0.05459132\n",
            "Iteration 19, loss = 0.05340409\n",
            "Iteration 20, loss = 0.05219040\n",
            "Iteration 21, loss = 0.05096522\n",
            "Iteration 22, loss = 0.05010669\n",
            "Iteration 23, loss = 0.04918839\n",
            "Iteration 24, loss = 0.04843754\n",
            "Iteration 25, loss = 0.04798825\n",
            "Iteration 26, loss = 0.04742994\n",
            "Iteration 27, loss = 0.04604799\n",
            "Iteration 28, loss = 0.04554330\n",
            "Iteration 29, loss = 0.04500284\n",
            "Iteration 30, loss = 0.04413877\n",
            "Iteration 31, loss = 0.04420879\n",
            "Iteration 32, loss = 0.04322389\n",
            "Iteration 33, loss = 0.04290017\n",
            "Iteration 34, loss = 0.04191013\n",
            "Iteration 35, loss = 0.04127487\n",
            "Iteration 36, loss = 0.04152475\n",
            "Iteration 37, loss = 0.04081011\n",
            "Iteration 38, loss = 0.04024269\n",
            "Iteration 39, loss = 0.04013875\n",
            "Iteration 40, loss = 0.03977141\n",
            "Iteration 41, loss = 0.03875307\n",
            "Iteration 42, loss = 0.03879140\n",
            "Iteration 43, loss = 0.03798629\n",
            "Iteration 44, loss = 0.03765179\n",
            "Iteration 45, loss = 0.03740255\n",
            "Iteration 46, loss = 0.03710481\n",
            "Iteration 47, loss = 0.03690989\n",
            "Iteration 48, loss = 0.03651539\n",
            "Iteration 49, loss = 0.03683217\n",
            "Iteration 50, loss = 0.03664729\n",
            "Iteration 51, loss = 0.03574091\n",
            "Iteration 52, loss = 0.03507756\n",
            "Iteration 53, loss = 0.03501334\n",
            "Iteration 54, loss = 0.03491599\n",
            "Iteration 55, loss = 0.03437131\n",
            "Iteration 56, loss = 0.03489261\n",
            "Iteration 57, loss = 0.03413191\n",
            "Iteration 58, loss = 0.03367526\n",
            "Iteration 59, loss = 0.03429475\n",
            "Iteration 60, loss = 0.03345525\n",
            "Iteration 61, loss = 0.03295489\n",
            "Iteration 62, loss = 0.03287964\n",
            "Iteration 63, loss = 0.03299136\n",
            "Iteration 64, loss = 0.03240167\n",
            "Iteration 65, loss = 0.03224362\n",
            "Iteration 66, loss = 0.03179553\n",
            "Iteration 67, loss = 0.03193221\n",
            "Iteration 68, loss = 0.03173011\n",
            "Iteration 69, loss = 0.03132116\n",
            "Iteration 70, loss = 0.03154822\n",
            "Iteration 71, loss = 0.03088740\n",
            "Iteration 72, loss = 0.03093866\n",
            "Iteration 73, loss = 0.03052960\n",
            "Iteration 74, loss = 0.03047054\n",
            "Iteration 75, loss = 0.03035239\n",
            "Iteration 76, loss = 0.03050501\n",
            "Iteration 77, loss = 0.03022162\n",
            "Iteration 78, loss = 0.02993180\n",
            "Iteration 79, loss = 0.02983775\n",
            "Iteration 80, loss = 0.02986189\n",
            "Iteration 81, loss = 0.03018921\n",
            "Iteration 82, loss = 0.02924838\n",
            "Iteration 83, loss = 0.02949592\n",
            "Iteration 84, loss = 0.02905297\n",
            "Iteration 85, loss = 0.02896872\n",
            "Iteration 86, loss = 0.02897992\n",
            "Iteration 87, loss = 0.02871057\n",
            "Iteration 88, loss = 0.02866591\n",
            "Iteration 89, loss = 0.02881381\n",
            "Iteration 90, loss = 0.02831847\n",
            "Iteration 91, loss = 0.02821032\n",
            "Iteration 92, loss = 0.02848367\n",
            "Iteration 93, loss = 0.02806781\n",
            "Iteration 94, loss = 0.02804202\n",
            "Iteration 95, loss = 0.02822786\n",
            "Iteration 96, loss = 0.02741890\n",
            "Iteration 97, loss = 0.02755977\n",
            "Iteration 98, loss = 0.02761178\n",
            "Iteration 99, loss = 0.02767404\n",
            "Iteration 100, loss = 0.02727755\n",
            "Iteration 101, loss = 0.02719667\n",
            "Iteration 102, loss = 0.02776096\n",
            "Iteration 103, loss = 0.02715220\n",
            "Iteration 104, loss = 0.02784141\n",
            "Iteration 105, loss = 0.02674937\n",
            "Iteration 106, loss = 0.02715808\n",
            "Iteration 107, loss = 0.02689201\n",
            "Iteration 108, loss = 0.02674950\n",
            "Iteration 109, loss = 0.02627463\n",
            "Iteration 110, loss = 0.02619265\n",
            "Iteration 111, loss = 0.02639998\n",
            "Iteration 112, loss = 0.02653007\n",
            "Iteration 113, loss = 0.02628325\n",
            "Iteration 114, loss = 0.02633215\n",
            "Iteration 115, loss = 0.02613290\n",
            "Iteration 116, loss = 0.02609273\n",
            "Iteration 117, loss = 0.02617337\n",
            "Iteration 118, loss = 0.02567128\n",
            "Iteration 119, loss = 0.02614039\n",
            "Iteration 120, loss = 0.02641977\n",
            "Iteration 121, loss = 0.02579983\n",
            "Iteration 122, loss = 0.02582127\n",
            "Iteration 123, loss = 0.02573826\n",
            "Iteration 124, loss = 0.02541344\n",
            "Iteration 125, loss = 0.02567689\n",
            "Iteration 126, loss = 0.02563145\n",
            "Iteration 127, loss = 0.02601978\n",
            "Iteration 128, loss = 0.02508424\n",
            "Iteration 129, loss = 0.02518936\n",
            "Iteration 130, loss = 0.02529100\n",
            "Iteration 131, loss = 0.02510431\n",
            "Iteration 132, loss = 0.02520715\n",
            "Iteration 133, loss = 0.02513286\n",
            "Iteration 134, loss = 0.02501018\n",
            "Iteration 135, loss = 0.02495935\n",
            "Iteration 136, loss = 0.02502650\n",
            "Iteration 137, loss = 0.02529817\n",
            "Iteration 138, loss = 0.02489103\n",
            "Iteration 139, loss = 0.02517947\n",
            "Training loss did not improve more than tol=0.000100 for 10 consecutive epochs. Stopping.\n",
            "Accuracy Score: 0.978 (0.000)\n",
            "Confusion matrix:\n",
            "[[ 756   25]\n",
            " [  50 2618]]\n",
            "False positive rate: 0.032 (0.000)\n",
            "F1 Score: 0.986 (0.000)\n",
            "Precision Score: 0.991 (0.000)\n",
            "Recall Score: 0.981 (0.000)\n",
            "AUC Score: 0.981 (0.000)\n"
          ]
        }
      ],
      "source": [
        "MLP()"
      ]
    },
    {
      "cell_type": "code",
      "execution_count": null,
      "metadata": {
        "colab": {
          "background_save": true
        },
        "id": "1xgy3DrqF2-h"
      },
      "outputs": [],
      "source": [
        "def MLPOptimized():\n",
        "  model = MLPClassifier(solver='adam', activation='relu', hidden_layer_sizes=(150, 200), batch_size=200, verbose=True)\n",
        "  model.fit(data_train, label_train)\n",
        "  yhat = model.predict(data_test)\n",
        "  yhat = yhat.round()\n",
        "  acc = accuracy_score(label_test, yhat, sample_weight=None)\n",
        "  print(\"Accuracy Score: %.3f (%.3f)\" % (mean(acc), std(acc)))\n",
        "\n",
        "  from sklearn.metrics import confusion_matrix\n",
        "  print('Confusion matrix:')\n",
        "  print(confusion_matrix(label_test, yhat))\n",
        "\n",
        "  tn, fp, fn, tp = confusion_matrix(label_test, yhat).ravel()\n",
        "  fpr = fp /(fp+tn)\n",
        "  print(\"False positive rate: %.3f (%.3f)\" % (mean(fpr),std(fpr)))\n",
        "\n",
        "  from sklearn.metrics import f1_score\n",
        "  f1 = f1_score(label_test, yhat)\n",
        "  print(\"F1 Score: %.3f (%.3f)\" % (mean(f1),std(f1)))\n",
        "\n",
        "  from sklearn.metrics import precision_score\n",
        "  preci = precision_score(label_test, yhat)\n",
        "  print(\"Precision Score: %.3f (%.3f)\" % (mean(preci),std(preci)))\n",
        "\n",
        "  from sklearn.metrics import recall_score\n",
        "  recall = recall_score(label_test, yhat)\n",
        "  print(\"Recall Score: %.3f (%.3f)\" % (mean(recall),std(recall)))\n",
        "\n",
        "  from sklearn.metrics import roc_auc_score\n",
        "  auc = roc_auc_score(label_test, yhat)\n",
        "  print(\"AUC Score: %.3f (%.3f)\" % (mean(recall),std(recall)))"
      ]
    },
    {
      "cell_type": "code",
      "execution_count": null,
      "metadata": {
        "colab": {
          "background_save": true
        },
        "id": "GIoHEiuV7Ol-",
        "outputId": "6a50e500-686a-4c13-be0a-4bc684ad0928"
      },
      "outputs": [
        {
          "name": "stdout",
          "output_type": "stream",
          "text": [
            "Iteration 1, loss = 0.22751033\n",
            "Iteration 2, loss = 0.08456843\n",
            "Iteration 3, loss = 0.07122572\n",
            "Iteration 4, loss = 0.05912782\n",
            "Iteration 5, loss = 0.05333379\n",
            "Iteration 6, loss = 0.04627686\n",
            "Iteration 7, loss = 0.04241553\n",
            "Iteration 8, loss = 0.04081947\n",
            "Iteration 9, loss = 0.03717956\n",
            "Iteration 10, loss = 0.03525257\n",
            "Iteration 11, loss = 0.03445271\n",
            "Iteration 12, loss = 0.03381061\n",
            "Iteration 13, loss = 0.03079040\n",
            "Iteration 14, loss = 0.03206704\n",
            "Iteration 15, loss = 0.03074092\n",
            "Iteration 16, loss = 0.02881061\n",
            "Iteration 17, loss = 0.02904927\n",
            "Iteration 18, loss = 0.02806423\n",
            "Iteration 19, loss = 0.02692170\n",
            "Iteration 20, loss = 0.02709143\n",
            "Iteration 21, loss = 0.02637685\n",
            "Iteration 22, loss = 0.02574259\n",
            "Iteration 23, loss = 0.02572801\n",
            "Iteration 24, loss = 0.02527227\n",
            "Iteration 25, loss = 0.02565548\n",
            "Iteration 26, loss = 0.02394278\n",
            "Iteration 27, loss = 0.02464007\n",
            "Iteration 28, loss = 0.02527257\n",
            "Iteration 29, loss = 0.02462500\n"
          ]
        }
      ],
      "source": [
        "MLPOptimized()"
      ]
    },
    {
      "cell_type": "code",
      "execution_count": null,
      "metadata": {
        "colab": {
          "background_save": true,
          "base_uri": "https://localhost:8080/"
        },
        "id": "DXXsU4j1oEMm",
        "outputId": "a1ae3c53-9859-4f13-c9bb-92320d5ca543"
      },
      "outputs": [
        {
          "name": "stdout",
          "output_type": "stream",
          "text": [
            "[1 1 1 ... 1 0 1]\n",
            "108/108 [==============================] - 3s 30ms/step\n",
            "Model: \"sequential_5\"\n",
            "_________________________________________________________________\n",
            " Layer (type)                Output Shape              Param #   \n",
            "=================================================================\n",
            " conv1d_5 (Conv1D)           (None, 3997, 64)          192       \n",
            "                                                                 \n",
            " dense_10 (Dense)            (None, 3997, 16)          1040      \n",
            "                                                                 \n",
            " max_pooling1d_5 (MaxPooling  (None, 1998, 16)         0         \n",
            " 1D)                                                             \n",
            "                                                                 \n",
            " flatten_5 (Flatten)         (None, 31968)             0         \n",
            "                                                                 \n",
            " dense_11 (Dense)            (None, 2)                 63938     \n",
            "                                                                 \n",
            "=================================================================\n",
            "Total params: 65,170\n",
            "Trainable params: 65,170\n",
            "Non-trainable params: 0\n",
            "_________________________________________________________________\n",
            "108/108 [==============================] - 2s 20ms/step\n",
            "Epoch 1/10\n"
          ]
        },
        {
          "name": "stderr",
          "output_type": "stream",
          "text": [
            "/usr/local/lib/python3.9/dist-packages/keras/backend.py:5612: UserWarning: \"`sparse_categorical_crossentropy` received `from_logits=True`, but the `output` argument was produced by a Softmax activation and thus does not represent logits. Was this intended?\n",
            "  output, from_logits = _get_logits(\n"
          ]
        },
        {
          "name": "stdout",
          "output_type": "stream",
          "text": [
            "25/25 [==============================] - ETA: 0s - loss: 0.5426 - accuracy: 0.7419"
          ]
        },
        {
          "name": "stderr",
          "output_type": "stream",
          "text": [
            "/usr/local/lib/python3.9/dist-packages/keras/backend.py:5612: UserWarning: \"`sparse_categorical_crossentropy` received `from_logits=True`, but the `output` argument was produced by a Softmax activation and thus does not represent logits. Was this intended?\n",
            "  output, from_logits = _get_logits(\n"
          ]
        },
        {
          "name": "stdout",
          "output_type": "stream",
          "text": [
            "25/25 [==============================] - 47s 2s/step - loss: 0.5426 - accuracy: 0.7419 - val_loss: 0.4607 - val_accuracy: 0.7572\n",
            "Epoch 2/10\n",
            "25/25 [==============================] - 33s 1s/step - loss: 0.3712 - accuracy: 0.8287 - val_loss: 0.2769 - val_accuracy: 0.8891\n",
            "Epoch 3/10\n",
            "25/25 [==============================] - 35s 1s/step - loss: 0.2242 - accuracy: 0.9111 - val_loss: 0.1842 - val_accuracy: 0.9304\n",
            "Epoch 4/10\n",
            "25/25 [==============================] - 33s 1s/step - loss: 0.1651 - accuracy: 0.9289 - val_loss: 0.1538 - val_accuracy: 0.9384\n",
            "Epoch 5/10\n",
            "25/25 [==============================] - 34s 1s/step - loss: 0.1365 - accuracy: 0.9434 - val_loss: 0.1372 - val_accuracy: 0.9457\n",
            "Epoch 6/10\n",
            "25/25 [==============================] - 34s 1s/step - loss: 0.1180 - accuracy: 0.9526 - val_loss: 0.1307 - val_accuracy: 0.9449\n",
            "Epoch 7/10\n",
            "25/25 [==============================] - 33s 1s/step - loss: 0.1060 - accuracy: 0.9586 - val_loss: 0.1191 - val_accuracy: 0.9609\n",
            "Epoch 8/10\n",
            "25/25 [==============================] - 39s 2s/step - loss: 0.0971 - accuracy: 0.9637 - val_loss: 0.1159 - val_accuracy: 0.9623\n",
            "Epoch 9/10\n",
            "25/25 [==============================] - 35s 1s/step - loss: 0.0919 - accuracy: 0.9655 - val_loss: 0.1130 - val_accuracy: 0.9601\n",
            "Epoch 10/10\n",
            "25/25 [==============================] - 33s 1s/step - loss: 0.0881 - accuracy: 0.9663 - val_loss: 0.1104 - val_accuracy: 0.9623\n"
          ]
        }
      ],
      "source": [
        "import pandas as pd\n",
        "import numpy\n",
        "import numpy as np\n",
        "import keras\n",
        "from keras.models import Sequential\n",
        "from keras.layers import Dense, Conv1D, Flatten, MaxPooling1D\n",
        "from numpy import unique\n",
        "from sklearn.tree import DecisionTreeClassifier\n",
        "from sklearn.metrics import accuracy_score\n",
        "from sklearn.linear_model import LogisticRegression\n",
        "from sklearn.svm import SVC\n",
        "from xgboost import XGBClassifier\n",
        "from sklearn.ensemble import RandomForestClassifier\n",
        "import warnings\n",
        "import sys\n",
        "\n",
        "X_ = data_train.values.reshape(data_train.shape[0], data_train.shape[1], 1)\n",
        "\n",
        "modelCnn = Sequential()\n",
        "modelCnn.add(Conv1D(64, 2, activation=\"relu\", input_shape=(data_train.shape[1],1)))\n",
        "modelCnn.add(Dense(16, activation=\"relu\"))\n",
        "modelCnn.add(MaxPooling1D())\n",
        "modelCnn.add(Flatten())\n",
        "modelCnn.add(Dense(2, activation = 'softmax'))\n",
        "modelCnn.compile(loss = 'sparse_categorical_crossentropy', optimizer = \"adam\", metrics = ['accuracy'])\n",
        "X_ = np.array(X_)\n",
        "#print(X_)\n",
        "\n",
        "label_train = np.array(label_train)\n",
        "\n",
        "print(label_train)\n",
        "#data_test = np.array(data_test)\n",
        "Y_ = data_test.values.reshape(data_test.shape[0], data_test.shape[1], 1)\n",
        "Y_ = np.array(Y_)\n",
        "#print(Y_)\n",
        "\n",
        "label_test = np.array(label_test)\n",
        "#print(label_test)\n",
        "\n",
        "yhat = modelCnn.predict(data_test)\n",
        "yhat = yhat.round()\n",
        "\n",
        "yhat = np.array(yhat)\n",
        "modelCnn.summary()\n",
        "import numpy as np # linear algebra\n",
        "import pandas as pd # data processing, CSV file I/O (e.g. pd.read_csv)\n",
        "import seaborn as sns\n",
        "import matplotlib.pyplot as plt\n",
        "from keras.models import Sequential\n",
        "\n",
        "from keras.layers import Embedding, LSTM, GlobalAveragePooling2D\n",
        "from keras.layers import Dense, Dropout, Conv1D, MaxPool1D, BatchNormalization\n",
        "from sklearn.model_selection import train_test_split\n",
        "from sklearn.metrics import accuracy_score,classification_report,confusion_matrix\n",
        "\n",
        "predict_x=modelCnn.predict(data_test)\n",
        "classes_x=np.argmax(predict_x,axis=1)\n",
        "\n",
        "#optimizer = adam(lr=.0001)\n",
        "#modelCnn.compile(loss='binary_crossentropy', optimizer=optimizer, metrics=['accuracy'])\n",
        "modelCnn.compile(optimizer='adam',loss = keras.losses.SparseCategoricalCrossentropy(from_logits=True), metrics=['accuracy'])\n",
        "#history = modelCnn.fit(data_train, label_train, validation_split=0.2, epochs=150, batch_size=100) #original batch_size = 512\n",
        "history = modelCnn.fit(data_train, label_train, validation_split=0.1, epochs=10, batch_size=512) #original batch_size = 512\n",
        "\n",
        "#y_pred = modelCnn.predict_classes(data_test)\n",
        "#acc = accuracy_score(label_test, yhat, sample_weight=None)\n",
        "#print(\"Accuracy Score: %.3f (%.3f)\" % (mean(acc), std(acc)))\n",
        "#modelCnn.fit(X_, label_train, batch_size=64, epochs=150, verbose=0)\n",
        "\n",
        "\n",
        ""
      ]
    }
  ],
  "metadata": {
    "colab": {
      "provenance": []
    },
    "kernelspec": {
      "display_name": "Python 3",
      "name": "python3"
    },
    "language_info": {
      "name": "python"
    }
  },
  "nbformat": 4,
  "nbformat_minor": 0
}